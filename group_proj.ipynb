{
 "cells": [
  {
   "cell_type": "markdown",
   "id": "ff822879-7618-42f8-8bc0-bc8208b51195",
   "metadata": {
    "tags": []
   },
   "source": [
    "## Prediction of user Knowledge"
   ]
  },
  {
   "cell_type": "markdown",
   "id": "be531d11-5106-4552-be67-57b2d27ea6f4",
   "metadata": {
    "tags": []
   },
   "source": [
    "**Introduction**\n",
    "\n",
    "The data set records the standardized results of study time, repetition, exam performance for the goal subject as well as non-goal but related subjects. It has a target value of user knowledge classified as very low, low, middle, or high. \n",
    "\n",
    "Research question: How can The degree of study time of user for related objects with goal object and exam performance on the goal object predict user knowledge?\n",
    "\n",
    "The data set we will be using is taken from the UCI Machine learning repository titled, “User Knowledge Modeling Data Set”. The training data set contains 258 observations. There are 6 variables measured: STG (The degree of study time for goal object materials), SCG (The degree of repetition number of user for goal object materials), STR (The degree of study time of user for related objects with goal object), LPR (The exam performance of user for related objects with goal object), and PEG (The exam performance of user for goal object). Each of the variables are standardized. (Kahraman et Al.). There is research done on how general knowledge can be used to predict test scores (Hartwig et Al.), so in contrast, this data utilizes hard data such as test scores and studying time as the variables to something more abstract such as knowledge. "
   ]
  },
  {
   "cell_type": "code",
   "execution_count": null,
   "id": "b8ca2682-f9f3-4745-b97a-1bb399510217",
   "metadata": {},
   "outputs": [],
   "source": [
    "#Required libraries \n",
    "import altair as alt\n",
    "import pandas as pd \n",
    "import numpy as np\n",
    "import sklearn\n",
    "from sklearn.neighbors import KNeighborsClassifier\n",
    "from sklearn.metrics import confusion_matrix\n",
    "from sklearn.compose import make_column_transformer\n",
    "from sklearn.pipeline import Pipeline, make_pipeline\n",
    "from sklearn.preprocessing import OneHotEncoder, StandardScaler\n",
    "from sklearn.model_selection import (\n",
    "    GridSearchCV,\n",
    "    RandomizedSearchCV,\n",
    "    cross_validate,\n",
    "    train_test_split,\n",
    ")"
   ]
  },
  {
   "cell_type": "markdown",
   "id": "05e5a3b2",
   "metadata": {},
   "source": [
    "## Methods\n",
    "\n",
    "Firstly we wil create scatterplots with PEG on the y-axis and each of the other 4 variables with the shape and color aissgned by the UNS. Following this we identified that then We will use STR and PEG to predict. As these two variables are both focused on goal object, they provide a sense of coherence to the analysis. We will use the technique of classification on the training set to predict whether a new observation would be classified into one of the four categories of the knowledge level of the user.\n",
    "\n",
    "We will plot the dataset as a scatterplot, with STR on the x-axis, PEG on the y-axis and we will use color and shape to distinct different categories of UNS. "
   ]
  },
  {
   "cell_type": "markdown",
   "id": "c03308be",
   "metadata": {},
   "source": [
    "### Loads data from the original source on the web & cleans "
   ]
  },
  {
   "cell_type": "code",
   "execution_count": null,
   "id": "9a843fd5-1087-466b-b9a8-6eb0c63109b6",
   "metadata": {},
   "outputs": [],
   "source": [
    "#importing the data set\n",
    "url = \"https://archive.ics.uci.edu/ml/machine-learning-databases/00257/Data_User_Modeling_Dataset_Hamdi%20Tolga%20KAHRAMAN.xls\"\n",
    "\n",
    "user_knowledge_data = pd.read_excel(url, sheet_name = 1).drop(columns = [\"Unnamed: 6\", \"Unnamed: 7\", \"Attribute Information:\"])\n",
    "user_knowledge_data"
   ]
  },
  {
   "cell_type": "markdown",
   "id": "c66458f5",
   "metadata": {},
   "source": [
    "### Summary of the data"
   ]
  },
  {
   "cell_type": "code",
   "execution_count": null,
   "id": "bb45a9bf",
   "metadata": {},
   "outputs": [],
   "source": [
    "user_knowledge_data.agg([\"min\", \"max\"])"
   ]
  },
  {
   "cell_type": "code",
   "execution_count": null,
   "id": "8c200ce8",
   "metadata": {},
   "outputs": [],
   "source": [
    "#UNS_data = user_knowledge_data[[\" UNS\"]]\n",
    "data= user_knowledge_data.assign(count = 0)\n",
    "data = data.iloc[:,5:7].groupby(\" UNS\").count().reset_index()\n",
    "data"
   ]
  },
  {
   "cell_type": "markdown",
   "id": "53c1b55c",
   "metadata": {},
   "source": [
    "### Visualization of the dataset"
   ]
  },
  {
   "cell_type": "code",
   "execution_count": null,
   "id": "640c5f46-0fb1-42c8-a08b-ebfc18e6a540",
   "metadata": {},
   "outputs": [],
   "source": [
    "user_chart = (\n",
    "    alt.Chart(user_knowledge_data)\n",
    "    .mark_point()\n",
    "    .encode(\n",
    "        x = alt.X(\"STG\", title = \"Study time for goal object (Standardized)\"),\n",
    "        y = alt.Y(\"PEG\", title = \"Exam performance for goal object (standardized)\"),\n",
    "        color = \" UNS\",\n",
    "        shape = \" UNS\"\n",
    ")).properties(width=400, height=400)\n",
    "user_chart        "
   ]
  },
  {
   "cell_type": "code",
   "execution_count": null,
   "id": "32991bee-2561-4810-b126-6b58df62eca4",
   "metadata": {},
   "outputs": [],
   "source": [
    "user_chart2 = (\n",
    "    alt.Chart(user_knowledge_data)\n",
    "    .mark_point()\n",
    "    .encode(\n",
    "        x = alt.X(\"SCG\", title = \"The degree of repetition number of user for goal object materials (Standardized)\"),\n",
    "        y = alt.Y(\"PEG\", title = \"Exam performance for goal object (standardized)\"),\n",
    "        color = \" UNS\",\n",
    "        shape = \" UNS\"\n",
    ")).properties(width=400, height=400)\n",
    "user_chart2  "
   ]
  },
  {
   "cell_type": "code",
   "execution_count": null,
   "id": "4b8e8c08-b65d-4ecd-a11a-bd282194b3fa",
   "metadata": {},
   "outputs": [],
   "source": [
    "user_chart3 = (\n",
    "    alt.Chart(user_knowledge_data)\n",
    "    .mark_point()\n",
    "    .encode(\n",
    "        x = alt.X(\"STR\", title = \"The degree of study time of user for related objects with goal object(Standardized)\"),\n",
    "        y = alt.Y(\"PEG\", title = \"Exam performance for goal object (standardized)\"),\n",
    "        color = \" UNS\",\n",
    "        shape = \" UNS\"\n",
    ")).properties(width=400, height=400)\n",
    "user_chart3"
   ]
  },
  {
   "cell_type": "code",
   "execution_count": null,
   "id": "49538e5e-ca9e-4e53-adc3-86a69aefb408",
   "metadata": {},
   "outputs": [],
   "source": [
    "user_chart4 = (\n",
    "    alt.Chart(user_knowledge_data)\n",
    "    .mark_point()\n",
    "    .encode(\n",
    "        x = alt.X(\"LPR\", title = \"The exam performance of user for related objects with goal object(Standardized)\"),\n",
    "        y = alt.Y(\"PEG\", title = \"Exam performance for goal object (standardized)\"),\n",
    "        color = \" UNS\",\n",
    "        shape = \" UNS\"\n",
    ")).properties(width=400, height=400)\n",
    "user_chart4  "
   ]
  },
  {
   "cell_type": "markdown",
   "id": "de8727b1",
   "metadata": {},
   "source": [
    "### Data Analysis\n",
    "#### split training set and testing set"
   ]
  },
  {
   "cell_type": "code",
   "execution_count": null,
   "id": "5d893406",
   "metadata": {},
   "outputs": [],
   "source": [
    "usr_training, usr_test = train_test_split(user_knowledge_data,test_size=0.25,random_state=123)\n",
    "print(usr_training.head())\n",
    "print(usr_test.head())"
   ]
  },
  {
   "cell_type": "markdown",
   "id": "3d7e5be3",
   "metadata": {},
   "source": [
    "#### Assign predictors and targets"
   ]
  },
  {
   "cell_type": "code",
   "execution_count": null,
   "id": "c6e7674f",
   "metadata": {},
   "outputs": [],
   "source": [
    "X_train = pd.DataFrame(usr_training.loc[:,[\"STG\",\"PEG\"]])\n",
    "y_train = usr_training[\" UNS\"]\n",
    "X_test = pd.DataFrame(usr_test.loc[:,[\"STG\",\"PEG\"]])\n",
    "y_test = usr_test[\" UNS\"]\n"
   ]
  },
  {
   "cell_type": "markdown",
   "id": "836e5e63",
   "metadata": {},
   "source": [
    "#### Pick K-value using GridSearch"
   ]
  },
  {
   "cell_type": "code",
   "execution_count": null,
   "id": "a13d4dfc",
   "metadata": {},
   "outputs": [],
   "source": [
    "'''\n",
    "Create prepocessor, pipeline, and knn\n",
    "'''\n",
    "usr_data_prepocessor = make_column_transformer((StandardScaler(),[\"STG\",\"PEG\"]),)\n",
    "knn = KNeighborsClassifier()\n",
    "usr_data_pipe = make_pipeline(usr_data_prepocessor,knn)\n",
    "\n",
    "\n",
    "param_grid = {\"kneighborsclassifier__n_neighbors\": range(2, 50, 1),}"
   ]
  },
  {
   "cell_type": "code",
   "execution_count": null,
   "id": "847793da",
   "metadata": {},
   "outputs": [],
   "source": [
    "'''\n",
    "Create grid search\n",
    "'''\n",
    "usr_data_tune_grid = GridSearchCV(\n",
    "    estimator=usr_data_pipe, param_grid=param_grid, cv=5\n",
    ")\n",
    "usr_data_tune_grid"
   ]
  },
  {
   "cell_type": "code",
   "execution_count": null,
   "id": "222351ec",
   "metadata": {},
   "outputs": [],
   "source": [
    "'''\n",
    "Fit the model to the data\n",
    "'''\n",
    "usr_data_model_grid = usr_data_tune_grid.fit(X_train,y_train)\n",
    "accruacies_grid = pd.DataFrame(usr_data_model_grid.cv_results_)\n",
    "accruacies_grid.head()"
   ]
  },
  {
   "cell_type": "code",
   "execution_count": null,
   "id": "f644cc65",
   "metadata": {},
   "outputs": [],
   "source": [
    "'''\n",
    "Plot the accuracy against k to find the ideal k value\n",
    "'''\n",
    "accuracy_versus_k_grid = (\n",
    "    alt.Chart(accruacies_grid, title=\"Grid Search\")\n",
    "    .mark_line(point=True)\n",
    "    .encode(\n",
    "        x=alt.X(\n",
    "            \"param_kneighborsclassifier__n_neighbors\",\n",
    "            title=\"Neighbors\",\n",
    "            scale=alt.Scale(zero=False),\n",
    "        ),\n",
    "        y=alt.Y(\n",
    "            \"mean_test_score\", \n",
    "            title=\"Mean Test Score\", \n",
    "            scale=alt.Scale(zero=False)\n",
    "        ),\n",
    "    )\n",
    "    .configure_axis(labelFontSize=10, titleFontSize=15)\n",
    "    .properties(width=800, height=600)\n",
    ")\n",
    "accuracy_versus_k_grid"
   ]
  },
  {
   "cell_type": "markdown",
   "id": "711dac69",
   "metadata": {},
   "source": [
    "It is trivial from the above plot that when $k=10$ or $k=13$, the mean test score is the highest. $\\\\$\n",
    "(Test the model with GridSearchRange from $2$ to $100$, and the mean test score continues to drop after $k=50$, for better view of the plot, just pick the range from $2$ to $50$)"
   ]
  },
  {
   "cell_type": "markdown",
   "id": "8dc35af1",
   "metadata": {},
   "source": [
    "#### Set the model for K=10"
   ]
  },
  {
   "cell_type": "code",
   "execution_count": null,
   "id": "5c8b89f0",
   "metadata": {},
   "outputs": [],
   "source": [
    "'''\n",
    "create knn, pipeline\n",
    "'''\n",
    "knn_spec = KNeighborsClassifier(n_neighbors=10)\n",
    "usr_data_fit = make_pipeline(usr_data_prepocessor,knn_spec).fit(X_train,y_train)\n",
    "usr_data_fit"
   ]
  },
  {
   "cell_type": "code",
   "execution_count": null,
   "id": "b19c5b24",
   "metadata": {},
   "outputs": [],
   "source": [
    "'''\n",
    "user the model to predict test data and calculate the accuracy of the model\n",
    "'''\n",
    "usr_data_test_predictions = usr_test.assign(predictions=usr_data_fit.predict(X_test))\n",
    "\n",
    "X_test_pred = usr_data_test_predictions[[\"STG\",\"PEG\"]]\n",
    "y_test_pred = usr_data_test_predictions[\" UNS\"]\n",
    "usr_data_pred_accuracy = usr_data_fit.score(X_test_pred,y_test_pred)\n",
    "usr_data_pred_accuracy\n"
   ]
  },
  {
   "cell_type": "markdown",
   "id": "945da257",
   "metadata": {},
   "source": [
    "#### Set model for K=13"
   ]
  },
  {
   "cell_type": "code",
   "execution_count": null,
   "id": "4d3a6288",
   "metadata": {},
   "outputs": [],
   "source": [
    "knn_spec_13 = KNeighborsClassifier(n_neighbors=13)\n",
    "usr_data_fit_13 = make_pipeline(usr_data_prepocessor,knn_spec_13).fit(X_train,y_train)\n",
    "usr_data_fit_13"
   ]
  },
  {
   "cell_type": "code",
   "execution_count": null,
   "id": "f990b780",
   "metadata": {},
   "outputs": [],
   "source": [
    "usr_data_test_predictions_13 = usr_test.assign(predictions=usr_data_fit_13.predict(X_test))\n",
    "\n",
    "X_test_pred_13 = usr_data_test_predictions_13[[\"STG\",\"PEG\"]]\n",
    "y_test_pred_13 = usr_data_test_predictions_13[\" UNS\"]\n",
    "usr_data_pred_accuracy_13 = usr_data_fit_13.score(X_test_pred_13,y_test_pred_13)\n",
    "usr_data_pred_accuracy_13"
   ]
  },
  {
   "cell_type": "markdown",
   "id": "b5e142a1",
   "metadata": {},
   "source": [
    "Since the accuracy score of $K=10$ is slightly higher than $K=13$, so we will use $K=10$ "
   ]
  },
  {
   "cell_type": "markdown",
   "id": "1a0772ec",
   "metadata": {},
   "source": [
    "#### Cross-Validation"
   ]
  },
  {
   "cell_type": "code",
   "execution_count": null,
   "id": "648cae57",
   "metadata": {},
   "outputs": [],
   "source": [
    "'''\n",
    "Check if the model is overfit\n",
    "'''\n",
    "np.random.seed(2020)\n",
    "usr_data_vfold_score = cross_validate(estimator=usr_data_fit,X=X_train,y=y_train,return_train_score=True,)\n",
    "pd.DataFrame(usr_data_vfold_score)"
   ]
  },
  {
   "cell_type": "markdown",
   "id": "b5875086",
   "metadata": {},
   "source": [
    "#### Visualization of the model"
   ]
  },
  {
   "cell_type": "code",
   "execution_count": null,
   "id": "9bab5de7",
   "metadata": {},
   "outputs": [],
   "source": [
    "usr_data_mat = confusion_matrix(\n",
    "    usr_data_test_predictions[\" UNS\"],  # true labels\n",
    "    usr_data_test_predictions[\"predictions\"],  # predicted labels\n",
    "    labels=usr_data_fit.classes_, # specify the label for each class\n",
    ")\n",
    "\n",
    "usr_data_mat"
   ]
  },
  {
   "cell_type": "code",
   "execution_count": null,
   "id": "3219a6cd",
   "metadata": {},
   "outputs": [],
   "source": [
    "from sklearn.metrics import ConfusionMatrixDisplay\n",
    "\n",
    "disp = ConfusionMatrixDisplay(\n",
    "    confusion_matrix=usr_data_mat, display_labels=usr_data_fit.classes_\n",
    ")\n",
    "disp.plot()"
   ]
  },
  {
   "cell_type": "code",
   "execution_count": null,
   "id": "a18657a5",
   "metadata": {},
   "outputs": [],
   "source": [
    "import numpy as np\n",
    "\n",
    "# create the grid of area/smoothness vals, and arrange in a data frame\n",
    "are_grid = np.linspace(\n",
    "    user_knowledge_data[\"STG\"].min(), user_knowledge_data[\"STG\"].max(), 50\n",
    ")\n",
    "smo_grid = np.linspace(\n",
    "    user_knowledge_data[\"PEG\"].min(), user_knowledge_data[\"PEG\"].max(), 50\n",
    ")\n",
    "asgrid = np.array(np.meshgrid(are_grid, smo_grid)).reshape(2, -1).T\n",
    "asgrid = pd.DataFrame(asgrid, columns=[\"STG\", \"PEG\"])\n",
    "\n",
    "# use the fit workflow to make predictions at the grid points\n",
    "knnPredGrid = usr_data_fit.predict(asgrid)\n",
    "\n",
    "# bind the predictions as a new column with the grid points\n",
    "prediction_table = asgrid.copy()\n",
    "prediction_table[\" UNS\"] = knnPredGrid\n",
    "\n",
    "# plot:\n",
    "# 1. the colored scatter of the original data\n",
    "unscaled_plot = (\n",
    "    alt.Chart(\n",
    "        user_knowledge_data,\n",
    "    )\n",
    "    .mark_point(opacity=0.6, filled=True, size=40)\n",
    "    .encode(\n",
    "        x=alt.X(\n",
    "            \"STG\",\n",
    "            title=\"STG\",\n",
    "            scale=alt.Scale(\n",
    "                domain=(user_knowledge_data[\"STG\"].min(), user_knowledge_data[\"STG\"].max())\n",
    "            ),\n",
    "        ),\n",
    "        y=alt.Y(\n",
    "            \"PEG\",\n",
    "            title=\"PEG\",\n",
    "            scale=alt.Scale(\n",
    "                domain=(\n",
    "                    user_knowledge_data[\"PEG\"].min(),\n",
    "                    user_knowledge_data[\"PEG\"].max(),\n",
    "                )\n",
    "            ),\n",
    "        ),\n",
    "        color=alt.Color(\" UNS\", title=\"UNS\"),\n",
    "    )\n",
    ")\n",
    "\n",
    "# 2. the faded colored scatter for the grid points\n",
    "prediction_plot = (\n",
    "    alt.Chart(prediction_table)\n",
    "    .mark_point(opacity=0.05, filled=True, size=300)\n",
    "    .encode(\n",
    "        x=alt.X(\"STG\"),\n",
    "        y=alt.Y(\"PEG\"),\n",
    "        color=alt.Color(\" UNS\", title=\"UNS\"),\n",
    "    )\n",
    ")\n",
    "unscaled_plot + prediction_plot"
   ]
  },
  {
   "cell_type": "markdown",
   "id": "83ee83d9-1b76-4911-bada-aeeadf4bb492",
   "metadata": {},
   "source": [
    "**Expected Outcomes and Significance**"
   ]
  },
  {
   "cell_type": "markdown",
   "id": "d6d7003c-8a17-4cc6-b0f5-29f51fa28786",
   "metadata": {},
   "source": [
    "\n",
    "We expect that by using the two variables for The degree of study time with goal object (STR) and Exam performance of users (PEG) we would be able to predict the possible knowledge level of the user(UNS). Since there is a clear distinction between the levels of knowledge in the scatter plot provided we believe using K nearest neighbours would provide an accurate prediction for the users knowledge level.\n",
    "\n",
    "Our findings could assess common methods for classifying students in settings where knowledge is heavily based on test scores such as in high school and in university. We can find if different variables such as test scores on the target object as well as study time with goal object accurately predict knowledge and how that can be translated to the system that schools currently use and if they are reliable and viable. \n",
    "\n",
    "One straightforward question may be “Are there any variables that could improve the accuracy of the prediction?”, as we are now using only two out of five variables to predict. Further down this path, another example of a potential future question could be, “Are Degree of Study time(STR) and Exam performance of users (PEG) the most two determinant variables among the five input variables for deciding a user’s knowledge level?” In an attempt to find the most accurate prediction, one may proceed by choosing variables to build the model and compare it with this one.\n",
    "\n"
   ]
  }
 ],
 "metadata": {
  "kernelspec": {
   "display_name": "Python 3.11.1 64-bit",
   "language": "python",
   "name": "python3"
  },
  "language_info": {
   "codemirror_mode": {
    "name": "ipython",
    "version": 3
   },
   "file_extension": ".py",
   "mimetype": "text/x-python",
   "name": "python",
   "nbconvert_exporter": "python",
   "pygments_lexer": "ipython3",
   "version": "3.11.1"
  },
  "vscode": {
   "interpreter": {
    "hash": "aee8b7b246df8f9039afb4144a1f6fd8d2ca17a180786b69acc140d282b71a49"
   }
  }
 },
 "nbformat": 4,
 "nbformat_minor": 5
}
